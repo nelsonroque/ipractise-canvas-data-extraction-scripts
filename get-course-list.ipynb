{
 "cells": [
  {
   "cell_type": "code",
   "execution_count": 2,
   "metadata": {},
   "outputs": [
    {
     "name": "stdout",
     "output_type": "stream",
     "text": [
      "Collecting requests\n",
      "  Using cached requests-2.32.3-py3-none-any.whl.metadata (4.6 kB)\n",
      "Collecting charset-normalizer<4,>=2 (from requests)\n",
      "  Using cached charset_normalizer-3.3.2-cp39-cp39-macosx_11_0_arm64.whl.metadata (33 kB)\n",
      "Collecting idna<4,>=2.5 (from requests)\n",
      "  Using cached idna-3.8-py3-none-any.whl.metadata (9.9 kB)\n",
      "Collecting urllib3<3,>=1.21.1 (from requests)\n",
      "  Using cached urllib3-2.2.2-py3-none-any.whl.metadata (6.4 kB)\n",
      "Collecting certifi>=2017.4.17 (from requests)\n",
      "  Using cached certifi-2024.8.30-py3-none-any.whl.metadata (2.2 kB)\n",
      "Using cached requests-2.32.3-py3-none-any.whl (64 kB)\n",
      "Using cached certifi-2024.8.30-py3-none-any.whl (167 kB)\n",
      "Using cached charset_normalizer-3.3.2-cp39-cp39-macosx_11_0_arm64.whl (120 kB)\n",
      "Using cached idna-3.8-py3-none-any.whl (66 kB)\n",
      "Using cached urllib3-2.2.2-py3-none-any.whl (121 kB)\n",
      "Installing collected packages: urllib3, idna, charset-normalizer, certifi, requests\n",
      "Successfully installed certifi-2024.8.30 charset-normalizer-3.3.2 idna-3.8 requests-2.32.3 urllib3-2.2.2\n"
     ]
    },
    {
     "name": "stderr",
     "output_type": "stream",
     "text": [
      "/Users/nur375/Desktop/canvas_test/.venv/lib/python3.9/site-packages/urllib3/__init__.py:35: NotOpenSSLWarning: urllib3 v2 only supports OpenSSL 1.1.1+, currently the 'ssl' module is compiled with 'LibreSSL 2.8.3'. See: https://github.com/urllib3/urllib3/issues/3020\n",
      "  warnings.warn(\n"
     ]
    }
   ],
   "source": [
    "!pip3 install requests\n",
    "import requests"
   ]
  },
  {
   "cell_type": "markdown",
   "metadata": {},
   "source": [
    "# Check API calls live\n",
    "https://psu.instructure.com/doc/api/live"
   ]
  },
  {
   "cell_type": "code",
   "execution_count": 13,
   "metadata": {},
   "outputs": [],
   "source": [
    "# Replace with your Canvas domain and API token\n",
    "canvas_domain = 'psu.instructure.com'  # e.g., 'canvas.instructure.com'\n",
    "api_token = 'XXXXXXXXXXXXXXXXXXXXXXXXXXXXXXXXXXXXXXXXXXXXXXXX'"
   ]
  },
  {
   "cell_type": "code",
   "execution_count": 14,
   "metadata": {},
   "outputs": [],
   "source": [
    "# Set the API URL\n",
    "url = f'https://{canvas_domain}/api/v1/courses'\n",
    "\n",
    "# Set up the headers with the API token\n",
    "headers = {\n",
    "    'Authorization': f'Bearer {api_token}'\n",
    "}"
   ]
  },
  {
   "cell_type": "code",
   "execution_count": 16,
   "metadata": {},
   "outputs": [
    {
     "name": "stdout",
     "output_type": "stream",
     "text": [
      "{'id': 2000041, 'access_restricted_by_date': True}\n",
      "{'id': 2313560, 'name': 'HDFS 249N - Adult Dev Aging - Section 003', 'account_id': 172364, 'uuid': 'avxZjqku4hKQOF0AXk7O6445QbdOHI9P6SYo523D', 'start_at': None, 'grading_standard_id': 4870657, 'is_public': False, 'created_at': '2023-10-03T00:21:00Z', 'course_code': 'HDFS 249N, Section 003: Adult Dev Aging (22411--UP---P-HDFS----249N------003-)', 'default_view': 'wiki', 'root_account_id': 85746, 'enrollment_term_id': 10336, 'license': 'private', 'grade_passback_setting': None, 'end_at': None, 'public_syllabus': False, 'public_syllabus_to_auth': False, 'storage_quota_mb': 1572, 'is_public_to_auth_users': False, 'homeroom_course': False, 'course_color': None, 'friendly_name': None, 'apply_assignment_group_weights': True, 'calendar': {'ics': 'https://psu.instructure.com/feeds/calendars/course_avxZjqku4hKQOF0AXk7O6445QbdOHI9P6SYo523D.ics'}, 'time_zone': 'America/New_York', 'blueprint': False, 'template': False, 'sis_course_id': '22411--28526', 'integration_id': None, 'enrollments': [{'type': 'teacher', 'role': 'TeacherEnrollment', 'role_id': 6066, 'user_id': 6978665, 'enrollment_state': 'active', 'limit_privileges_to_course_section': False}], 'hide_final_grades': False, 'workflow_state': 'available', 'restrict_enrollments_to_course_dates': False}\n",
      "{'id': 2354693, 'name': 'HDFS 249N - Adult Dev Aging - Section 004', 'account_id': 172364, 'uuid': 'W8xoQF9iinVU0swPgIYFBZ2VPwRGoZph2YbAkdyH', 'start_at': None, 'grading_standard_id': 4870657, 'is_public': False, 'created_at': '2024-05-03T04:20:50Z', 'course_code': 'HDFS 249N, Section 004: Adult Dev Aging (22481--UP---P-HDFS----249N------004-)', 'default_view': 'wiki', 'root_account_id': 85746, 'enrollment_term_id': 10438, 'license': 'private', 'grade_passback_setting': None, 'end_at': None, 'public_syllabus': False, 'public_syllabus_to_auth': False, 'storage_quota_mb': 1572, 'is_public_to_auth_users': False, 'homeroom_course': False, 'course_color': None, 'friendly_name': None, 'apply_assignment_group_weights': True, 'calendar': {'ics': 'https://psu.instructure.com/feeds/calendars/course_W8xoQF9iinVU0swPgIYFBZ2VPwRGoZph2YbAkdyH.ics'}, 'time_zone': 'America/New_York', 'blueprint': False, 'template': False, 'sis_course_id': '22481--30481', 'integration_id': None, 'enrollments': [{'type': 'teacher', 'role': 'TeacherEnrollment', 'role_id': 6066, 'user_id': 6978665, 'enrollment_state': 'active', 'limit_privileges_to_course_section': False}], 'hide_final_grades': False, 'workflow_state': 'available', 'restrict_enrollments_to_course_dates': False}\n",
      "{'id': 2353979, 'name': 'HDFS 496, Section 001: Indep Studies (22451--UP---P-HDFS----496-------001-)', 'account_id': 172364, 'uuid': 'SptM310n72XuQR4yfWdrR8Dtp5fAgz3LHlIuKweg', 'start_at': None, 'grading_standard_id': None, 'is_public': None, 'created_at': '2024-04-21T04:21:02Z', 'course_code': 'HDFS 496, Section 001: Indep Studies (22451--UP---P-HDFS----496-------001-)', 'default_view': 'modules', 'root_account_id': 85746, 'enrollment_term_id': 10437, 'license': None, 'grade_passback_setting': None, 'end_at': None, 'public_syllabus': False, 'public_syllabus_to_auth': False, 'storage_quota_mb': 1572, 'is_public_to_auth_users': False, 'homeroom_course': False, 'course_color': None, 'friendly_name': None, 'apply_assignment_group_weights': False, 'calendar': {'ics': 'https://psu.instructure.com/feeds/calendars/course_SptM310n72XuQR4yfWdrR8Dtp5fAgz3LHlIuKweg.ics'}, 'time_zone': 'America/New_York', 'blueprint': False, 'template': False, 'sis_course_id': '22451---9020', 'integration_id': None, 'enrollments': [{'type': 'teacher', 'role': 'TeacherEnrollment', 'role_id': 6066, 'user_id': 6978665, 'enrollment_state': 'active', 'limit_privileges_to_course_section': False}], 'hide_final_grades': False, 'workflow_state': 'unpublished', 'restrict_enrollments_to_course_dates': False}\n",
      "{'id': 2360117, 'name': 'HDFS 496, Section 002: Indep Studies (22481--UP---P-HDFS----496-------002-)', 'account_id': 172364, 'uuid': 'ol7CyxdGEhibVoXLI5AcfGECJx808PwVY3RzmciT', 'start_at': None, 'grading_standard_id': None, 'is_public': None, 'created_at': '2024-08-30T18:23:52Z', 'course_code': 'HDFS 496, Section 002: Indep Studies (22481--UP---P-HDFS----496-------002-)', 'default_view': 'modules', 'root_account_id': 85746, 'enrollment_term_id': 10438, 'license': None, 'grade_passback_setting': None, 'end_at': None, 'public_syllabus': False, 'public_syllabus_to_auth': False, 'storage_quota_mb': 1572, 'is_public_to_auth_users': False, 'homeroom_course': False, 'course_color': None, 'friendly_name': None, 'apply_assignment_group_weights': False, 'calendar': {'ics': 'https://psu.instructure.com/feeds/calendars/course_ol7CyxdGEhibVoXLI5AcfGECJx808PwVY3RzmciT.ics'}, 'time_zone': 'America/New_York', 'blueprint': False, 'template': False, 'sis_course_id': '22481--30402', 'integration_id': None, 'enrollments': [{'type': 'teacher', 'role': 'TeacherEnrollment', 'role_id': 6066, 'user_id': 6978665, 'enrollment_state': 'active', 'limit_privileges_to_course_section': False}], 'hide_final_grades': False, 'workflow_state': 'unpublished', 'restrict_enrollments_to_course_dates': False}\n",
      "{'id': 2309008, 'name': 'HDFS 596, Section 002: Individual Studies (22411--UP---P-HDFS----596-------002-)', 'account_id': 172364, 'uuid': 'JP8GpkK7aq8FKL22GNhqmBAQA9cS2Q4vAaQFGbee', 'start_at': None, 'grading_standard_id': None, 'is_public': None, 'created_at': '2023-09-09T20:21:05Z', 'course_code': 'HDFS 596, Section 002: Individual Studies (22411--UP---P-HDFS----596-------002-)', 'default_view': 'modules', 'root_account_id': 85746, 'enrollment_term_id': 10336, 'license': None, 'grade_passback_setting': None, 'end_at': None, 'public_syllabus': False, 'public_syllabus_to_auth': False, 'storage_quota_mb': 1572, 'is_public_to_auth_users': False, 'homeroom_course': False, 'course_color': None, 'friendly_name': None, 'apply_assignment_group_weights': False, 'calendar': {'ics': 'https://psu.instructure.com/feeds/calendars/course_JP8GpkK7aq8FKL22GNhqmBAQA9cS2Q4vAaQFGbee.ics'}, 'time_zone': 'America/New_York', 'blueprint': False, 'template': False, 'sis_course_id': '22411--13132', 'integration_id': None, 'enrollments': [{'type': 'teacher', 'role': 'TeacherEnrollment', 'role_id': 6066, 'user_id': 6978665, 'enrollment_state': 'active', 'limit_privileges_to_course_section': False}], 'hide_final_grades': False, 'workflow_state': 'unpublished', 'restrict_enrollments_to_course_dates': False}\n",
      "{'id': 2275729, 'name': 'HDFS 596, Section 009: Individual Studies (22381--UP---P-HDFS----596-------009-)', 'account_id': 172364, 'uuid': 'aWC9zzErhsCNBRWkck63B0oR9CrbGi0fnluI5qyO', 'start_at': None, 'grading_standard_id': None, 'is_public': None, 'created_at': '2023-02-05T12:21:35Z', 'course_code': 'HDFS 596, Section 009: Individual Studies (22381--UP---P-HDFS----596-------009-)', 'default_view': 'modules', 'root_account_id': 85746, 'enrollment_term_id': 10335, 'license': None, 'grade_passback_setting': None, 'end_at': None, 'public_syllabus': False, 'public_syllabus_to_auth': False, 'storage_quota_mb': 1572, 'is_public_to_auth_users': False, 'homeroom_course': False, 'course_color': None, 'friendly_name': None, 'apply_assignment_group_weights': False, 'calendar': {'ics': 'https://psu.instructure.com/feeds/calendars/course_aWC9zzErhsCNBRWkck63B0oR9CrbGi0fnluI5qyO.ics'}, 'time_zone': 'America/New_York', 'blueprint': False, 'template': False, 'sis_course_id': '22381--12873', 'integration_id': None, 'enrollments': [{'type': 'teacher', 'role': 'TeacherEnrollment', 'role_id': 6066, 'user_id': 6978665, 'enrollment_state': 'active', 'limit_privileges_to_course_section': False}], 'hide_final_grades': False, 'workflow_state': 'unpublished', 'restrict_enrollments_to_course_dates': False}\n",
      "{'id': 2344399, 'name': 'HDFS 596, Section 013: Individual Studies (22481--UP---P-HDFS----596-------013-)', 'account_id': 172364, 'uuid': 'roJURTMnARM3lM3x3lDnx16WPBBwqyAIGtbcaf5k', 'start_at': None, 'grading_standard_id': None, 'is_public': None, 'created_at': '2024-02-05T09:21:25Z', 'course_code': 'HDFS 596, Section 013: Individual Studies (22481--UP---P-HDFS----596-------013-)', 'default_view': 'modules', 'root_account_id': 85746, 'enrollment_term_id': 10438, 'license': None, 'grade_passback_setting': None, 'end_at': None, 'public_syllabus': False, 'public_syllabus_to_auth': False, 'storage_quota_mb': 1572, 'is_public_to_auth_users': False, 'homeroom_course': False, 'course_color': None, 'friendly_name': None, 'apply_assignment_group_weights': False, 'calendar': {'ics': 'https://psu.instructure.com/feeds/calendars/course_roJURTMnARM3lM3x3lDnx16WPBBwqyAIGtbcaf5k.ics'}, 'time_zone': 'America/New_York', 'blueprint': False, 'template': False, 'sis_course_id': '22481--12921', 'integration_id': None, 'enrollments': [{'type': 'teacher', 'role': 'TeacherEnrollment', 'role_id': 6066, 'user_id': 6978665, 'enrollment_state': 'active', 'limit_privileges_to_course_section': False}], 'hide_final_grades': False, 'workflow_state': 'unpublished', 'restrict_enrollments_to_course_dates': False}\n",
      "{'id': 2313580, 'name': 'Nelson Roque Sandbox', 'account_id': 168139, 'uuid': 'Uqrsrx4qEH4ApLY8zRAhv95yo7mhJZ1MxMLjjWmn', 'start_at': None, 'grading_standard_id': 5053420, 'is_public': False, 'created_at': '2023-10-03T17:54:09Z', 'course_code': 'Section : Nelson Roque Sandbox', 'default_view': 'modules', 'root_account_id': 85746, 'enrollment_term_id': 958, 'license': 'private', 'grade_passback_setting': None, 'end_at': None, 'public_syllabus': False, 'public_syllabus_to_auth': False, 'storage_quota_mb': 1572, 'is_public_to_auth_users': False, 'homeroom_course': False, 'course_color': None, 'friendly_name': None, 'apply_assignment_group_weights': False, 'calendar': {'ics': 'https://psu.instructure.com/feeds/calendars/course_Uqrsrx4qEH4ApLY8zRAhv95yo7mhJZ1MxMLjjWmn.ics'}, 'time_zone': 'America/New_York', 'blueprint': False, 'template': False, 'sis_course_id': 'NUR375_SANDBOX_168139', 'integration_id': None, 'enrollments': [{'type': 'teacher', 'role': 'TeacherEnrollment', 'role_id': 6066, 'user_id': 6978665, 'enrollment_state': 'active', 'limit_privileges_to_course_section': False}], 'hide_final_grades': False, 'workflow_state': 'unpublished', 'restrict_enrollments_to_course_dates': True}\n",
      "{'id': 2326609, 'name': 'TPRACTISE Test Course 001', 'account_id': 168146, 'uuid': '960gEHT3if8xydYlpoN8vyPB3fvaRjoPzWlPpvWH', 'start_at': None, 'grading_standard_id': None, 'is_public': None, 'created_at': '2024-01-25T04:12:43Z', 'course_code': 'TPRAC 001', 'default_view': 'assignments', 'root_account_id': 85746, 'enrollment_term_id': 10336, 'license': None, 'grade_passback_setting': None, 'end_at': None, 'public_syllabus': False, 'public_syllabus_to_auth': False, 'storage_quota_mb': 1572, 'is_public_to_auth_users': False, 'homeroom_course': False, 'course_color': None, 'friendly_name': None, 'apply_assignment_group_weights': False, 'calendar': {'ics': 'https://psu.instructure.com/feeds/calendars/course_960gEHT3if8xydYlpoN8vyPB3fvaRjoPzWlPpvWH.ics'}, 'time_zone': 'America/New_York', 'blueprint': False, 'template': False, 'sis_course_id': 'MCC-20240124231243-pxk919', 'integration_id': None, 'enrollments': [{'type': 'teacher', 'role': 'TeacherEnrollment', 'role_id': 6066, 'user_id': 6978665, 'enrollment_state': 'active', 'limit_privileges_to_course_section': False}], 'hide_final_grades': False, 'workflow_state': 'available', 'restrict_enrollments_to_course_dates': False}\n"
     ]
    }
   ],
   "source": [
    "# Make the GET request to retrieve courses\n",
    "response = requests.get(url, headers=headers)\n",
    "\n",
    "# Check if the request was successful\n",
    "if response.status_code == 200:\n",
    "    courses = response.json()  # Parse the JSON response\n",
    "    for course in courses:\n",
    "        print(course)\n",
    "else:\n",
    "    print(f\"Failed to retrieve courses. Status Code: {response.status_code}\")\n"
   ]
  }
 ],
 "metadata": {
  "kernelspec": {
   "display_name": "Python 3",
   "language": "python",
   "name": "python3"
  },
  "language_info": {
   "codemirror_mode": {
    "name": "ipython",
    "version": 3
   },
   "file_extension": ".py",
   "mimetype": "text/x-python",
   "name": "python",
   "nbconvert_exporter": "python",
   "pygments_lexer": "ipython3",
   "version": "3.9.6"
  }
 },
 "nbformat": 4,
 "nbformat_minor": 2
}
