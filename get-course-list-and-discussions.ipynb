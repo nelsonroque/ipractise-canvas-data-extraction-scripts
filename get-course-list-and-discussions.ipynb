{
 "cells": [
  {
   "cell_type": "code",
   "execution_count": 5,
   "metadata": {},
   "outputs": [
    {
     "name": "stdout",
     "output_type": "stream",
     "text": [
      "Requirement already satisfied: requests in ./.venv/lib/python3.9/site-packages (2.32.3)\n",
      "Collecting python-dotenv\n",
      "  Using cached python_dotenv-1.0.1-py3-none-any.whl.metadata (23 kB)\n",
      "Requirement already satisfied: charset-normalizer<4,>=2 in ./.venv/lib/python3.9/site-packages (from requests) (3.3.2)\n",
      "Requirement already satisfied: idna<4,>=2.5 in ./.venv/lib/python3.9/site-packages (from requests) (3.8)\n",
      "Requirement already satisfied: urllib3<3,>=1.21.1 in ./.venv/lib/python3.9/site-packages (from requests) (2.2.2)\n",
      "Requirement already satisfied: certifi>=2017.4.17 in ./.venv/lib/python3.9/site-packages (from requests) (2024.8.30)\n",
      "Using cached python_dotenv-1.0.1-py3-none-any.whl (19 kB)\n",
      "Installing collected packages: python-dotenv\n",
      "Successfully installed python-dotenv-1.0.1\n"
     ]
    }
   ],
   "source": [
    "# install libs\n",
    "!pip3 install requests python-dotenv"
   ]
  },
  {
   "cell_type": "code",
   "execution_count": 1,
   "metadata": {},
   "outputs": [],
   "source": [
    "def get_courses(base_url, headers):\n",
    "    \"\"\"\n",
    "    Retrieves the list of courses from the Canvas API.\n",
    "    \n",
    "    Args:\n",
    "    base_url (str): The base URL of the Canvas instance (e.g., 'canvas.instructure.com').\n",
    "    api_token (str): The API token for authenticating the request.\n",
    "    \n",
    "    Returns:\n",
    "    list: A list of courses (if the request is successful), or None if the request fails.\n",
    "    \"\"\"\n",
    "    # Set the API URL\n",
    "    url = f'https://{base_url}/courses'\n",
    "    \n",
    "    # Make the GET request to retrieve courses\n",
    "    response = requests.get(url, headers=headers)\n",
    "    \n",
    "    # Check if the request was successful\n",
    "    if response.status_code == 200:\n",
    "        # Parse and return the JSON response\n",
    "        return response.json()\n",
    "    else:\n",
    "        # Print error message and return None\n",
    "        print(f\"Failed to retrieve courses. Status Code: {response.status_code}\")\n",
    "        return None\n",
    "\n",
    "\n",
    "# Step 1: Get all discussion topics in a course\n",
    "def get_discussion_topics(base_url, course_id, headers):\n",
    "    url = f\"https://{base_url}/courses/{course_id}/discussion_topics\"\n",
    "    response = requests.get(url, headers=headers)\n",
    "    \n",
    "    try:\n",
    "        return response.json()\n",
    "    except:\n",
    "        print(f\"Failed to get discussion topics: {response.status_code}\")\n",
    "        return None\n",
    "\n",
    "# Step 2: Get discussion entries for a specific discussion topic\n",
    "def get_discussion_entries(base_url, course_id, headers, discussion_topic_id):\n",
    "    url = f\"https://{base_url}/courses/{course_id}/discussion_topics/{discussion_topic_id}/entries\"\n",
    "    response = requests.get(url, headers=headers)\n",
    "    \n",
    "    try:\n",
    "        return response.json()\n",
    "    except:\n",
    "        print(f\"Failed to get discussion topics: {response.status_code}\")\n",
    "        return None"
   ]
  },
  {
   "cell_type": "markdown",
   "metadata": {},
   "source": [
    "# Check API calls live\n",
    "https://psu.instructure.com/doc/api/live"
   ]
  },
  {
   "cell_type": "code",
   "execution_count": 3,
   "metadata": {},
   "outputs": [
    {
     "name": "stderr",
     "output_type": "stream",
     "text": [
      "/Users/nur375/Documents/GitHub/ipractise-canvas-data-extraction-scripts/.venv/lib/python3.9/site-packages/urllib3/__init__.py:35: NotOpenSSLWarning: urllib3 v2 only supports OpenSSL 1.1.1+, currently the 'ssl' module is compiled with 'LibreSSL 2.8.3'. See: https://github.com/urllib3/urllib3/issues/3020\n",
      "  warnings.warn(\n"
     ]
    }
   ],
   "source": [
    "import os\n",
    "import requests\n",
    "from dotenv import load_dotenv"
   ]
  },
  {
   "cell_type": "code",
   "execution_count": null,
   "metadata": {},
   "outputs": [],
   "source": [
    "# Replace with your Canvas domain and API token\n",
    "base_url = 'psu.instructure.com/api/v1'  # e.g., 'canvas.instructure.com'\n",
    "api_token = os.getenv('CANVAS_API_TOKEN')\n",
    "\n",
    "# Set up the headers with the API token\n",
    "headers = {\n",
    "    'Authorization': f'Bearer {api_token}'\n",
    "}"
   ]
  },
  {
   "cell_type": "code",
   "execution_count": null,
   "metadata": {},
   "outputs": [],
   "source": [
    "# get courses\n",
    "courses = get_courses(base_url, headers)\n",
    "print(courses)"
   ]
  },
  {
   "cell_type": "code",
   "execution_count": 6,
   "metadata": {},
   "outputs": [],
   "source": [
    "# get discussion topics and entries for a specific course\n",
    "course_id = 2326609\n",
    "discussion_topics = get_discussion_topics(base_url, course_id, headers)"
   ]
  },
  {
   "cell_type": "code",
   "execution_count": null,
   "metadata": {},
   "outputs": [],
   "source": [
    "if discussion_topics:\n",
    "    for topic in discussion_topics:\n",
    "        print(f\"Discussion Topic: {topic['title']}\")\n",
    "        discussion_id = topic['id']\n",
    "        discussion_entries = get_discussion_entries(base_url, course_id, headers, discussion_id)\n",
    "        \n",
    "        if discussion_entries:\n",
    "            for entry in discussion_entries:\n",
    "                print(f\"Entry by {entry['user_name']}: {entry['message']}\")"
   ]
  }
 ],
 "metadata": {
  "kernelspec": {
   "display_name": "Python 3",
   "language": "python",
   "name": "python3"
  },
  "language_info": {
   "codemirror_mode": {
    "name": "ipython",
    "version": 3
   },
   "file_extension": ".py",
   "mimetype": "text/x-python",
   "name": "python",
   "nbconvert_exporter": "python",
   "pygments_lexer": "ipython3",
   "version": "3.9.6"
  }
 },
 "nbformat": 4,
 "nbformat_minor": 2
}
