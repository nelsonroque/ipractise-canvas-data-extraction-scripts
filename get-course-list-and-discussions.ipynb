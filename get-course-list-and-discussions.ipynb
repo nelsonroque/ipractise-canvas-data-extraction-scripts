{
 "cells": [
  {
   "cell_type": "code",
   "execution_count": 5,
   "metadata": {},
   "outputs": [
    {
     "name": "stdout",
     "output_type": "stream",
     "text": [
      "Requirement already satisfied: requests in ./.venv/lib/python3.9/site-packages (2.32.3)\n",
      "Collecting python-dotenv\n",
      "  Using cached python_dotenv-1.0.1-py3-none-any.whl.metadata (23 kB)\n",
      "Requirement already satisfied: charset-normalizer<4,>=2 in ./.venv/lib/python3.9/site-packages (from requests) (3.3.2)\n",
      "Requirement already satisfied: idna<4,>=2.5 in ./.venv/lib/python3.9/site-packages (from requests) (3.8)\n",
      "Requirement already satisfied: urllib3<3,>=1.21.1 in ./.venv/lib/python3.9/site-packages (from requests) (2.2.2)\n",
      "Requirement already satisfied: certifi>=2017.4.17 in ./.venv/lib/python3.9/site-packages (from requests) (2024.8.30)\n",
      "Using cached python_dotenv-1.0.1-py3-none-any.whl (19 kB)\n",
      "Installing collected packages: python-dotenv\n",
      "Successfully installed python-dotenv-1.0.1\n"
     ]
    }
   ],
   "source": [
    "# install libs\n",
    "!pip3 install requests python-dotenv"
   ]
  },
  {
   "cell_type": "code",
   "execution_count": 1,
   "metadata": {},
   "outputs": [],
   "source": [
    "def get_courses(base_url, headers):\n",
    "    \"\"\"\n",
    "    Retrieves the list of courses from the Canvas API.\n",
    "    \n",
    "    Args:\n",
    "    base_url (str): The base URL of the Canvas instance (e.g., 'canvas.instructure.com').\n",
    "    api_token (str): The API token for authenticating the request.\n",
    "    \n",
    "    Returns:\n",
    "    list: A list of courses (if the request is successful), or None if the request fails.\n",
    "    \"\"\"\n",
    "    # Set the API URL\n",
    "    url = f'https://{base_url}/courses'\n",
    "    \n",
    "    # Make the GET request to retrieve courses\n",
    "    response = requests.get(url, headers=headers)\n",
    "    \n",
    "    # Check if the request was successful\n",
    "    if response.status_code == 200:\n",
    "        # Parse and return the JSON response\n",
    "        return response.json()\n",
    "    else:\n",
    "        # Print error message and return None\n",
    "        print(f\"Failed to retrieve courses. Status Code: {response.status_code}\")\n",
    "        return None\n",
    "\n",
    "\n",
    "# Step 1: Get all discussion topics in a course\n",
    "def get_discussion_topics(base_url, course_id, headers):\n",
    "    url = f\"https://{base_url}/courses/{course_id}/discussion_topics\"\n",
    "    response = requests.get(url, headers=headers)\n",
    "    \n",
    "    try:\n",
    "        return response.json()\n",
    "    except:\n",
    "        print(f\"Failed to get discussion topics: {response.status_code}\")\n",
    "        return None\n",
    "\n",
    "# Step 2: Get discussion entries for a specific discussion topic\n",
    "def get_discussion_entries(base_url, course_id, headers, discussion_topic_id):\n",
    "    url = f\"https://{base_url}/courses/{course_id}/discussion_topics/{discussion_topic_id}/entries\"\n",
    "    response = requests.get(url, headers=headers)\n",
    "    \n",
    "    try:\n",
    "        return response.json()\n",
    "    except:\n",
    "        print(f\"Failed to get discussion topics: {response.status_code}\")\n",
    "        return None"
   ]
  },
  {
   "cell_type": "markdown",
   "metadata": {},
   "source": [
    "# Check API calls live\n",
    "https://psu.instructure.com/doc/api/live"
   ]
  },
  {
   "cell_type": "code",
   "execution_count": 3,
   "metadata": {},
   "outputs": [
    {
     "name": "stderr",
     "output_type": "stream",
     "text": [
      "/Users/nur375/Documents/GitHub/ipractise-canvas-data-extraction-scripts/.venv/lib/python3.9/site-packages/urllib3/__init__.py:35: NotOpenSSLWarning: urllib3 v2 only supports OpenSSL 1.1.1+, currently the 'ssl' module is compiled with 'LibreSSL 2.8.3'. See: https://github.com/urllib3/urllib3/issues/3020\n",
      "  warnings.warn(\n"
     ]
    }
   ],
   "source": [
    "import os\n",
    "import requests\n",
    "from dotenv import load_dotenv"
   ]
  },
  {
   "cell_type": "code",
   "execution_count": 4,
   "metadata": {},
   "outputs": [
    {
     "name": "stdout",
     "output_type": "stream",
     "text": [
      "1050~LafC7ZaZMYUWEw9mkVaBCL2vw3zt6mcXF9APMzZCzXhf6kJMBNyRCLBHeUEFZ89B\n"
     ]
    }
   ],
   "source": [
    "# Replace with your Canvas domain and API token\n",
    "base_url = 'psu.instructure.com/api/v1'  # e.g., 'canvas.instructure.com'\n",
    "api_token = os.getenv('CANVAS_API_TOKEN')\n",
    "print(api_token)\n",
    "\n",
    "# Set up the headers with the API token\n",
    "headers = {\n",
    "    'Authorization': f'Bearer {api_token}'\n",
    "}"
   ]
  },
  {
   "cell_type": "code",
   "execution_count": 5,
   "metadata": {},
   "outputs": [
    {
     "name": "stdout",
     "output_type": "stream",
     "text": [
      "[{'id': 2000041, 'access_restricted_by_date': True}, {'id': 2313560, 'name': 'HDFS 249N - Adult Dev Aging - Section 003', 'account_id': 172364, 'uuid': 'avxZjqku4hKQOF0AXk7O6445QbdOHI9P6SYo523D', 'start_at': None, 'grading_standard_id': 4870657, 'is_public': False, 'created_at': '2023-10-03T00:21:00Z', 'course_code': 'HDFS 249N, Section 003: Adult Dev Aging (22411--UP---P-HDFS----249N------003-)', 'default_view': 'wiki', 'root_account_id': 85746, 'enrollment_term_id': 10336, 'license': 'private', 'grade_passback_setting': None, 'end_at': None, 'public_syllabus': False, 'public_syllabus_to_auth': False, 'storage_quota_mb': 1572, 'is_public_to_auth_users': False, 'homeroom_course': False, 'course_color': None, 'friendly_name': None, 'apply_assignment_group_weights': True, 'calendar': {'ics': 'https://psu.instructure.com/feeds/calendars/course_avxZjqku4hKQOF0AXk7O6445QbdOHI9P6SYo523D.ics'}, 'time_zone': 'America/New_York', 'blueprint': False, 'template': False, 'sis_course_id': '22411--28526', 'integration_id': None, 'enrollments': [{'type': 'teacher', 'role': 'TeacherEnrollment', 'role_id': 6066, 'user_id': 6978665, 'enrollment_state': 'active', 'limit_privileges_to_course_section': False}], 'hide_final_grades': False, 'workflow_state': 'available', 'restrict_enrollments_to_course_dates': False}, {'id': 2354693, 'name': 'HDFS 249N - Adult Dev Aging - Section 004', 'account_id': 172364, 'uuid': 'W8xoQF9iinVU0swPgIYFBZ2VPwRGoZph2YbAkdyH', 'start_at': None, 'grading_standard_id': 4870657, 'is_public': False, 'created_at': '2024-05-03T04:20:50Z', 'course_code': 'HDFS 249N, Section 004: Adult Dev Aging (22481--UP---P-HDFS----249N------004-)', 'default_view': 'wiki', 'root_account_id': 85746, 'enrollment_term_id': 10438, 'license': 'private', 'grade_passback_setting': None, 'end_at': None, 'public_syllabus': False, 'public_syllabus_to_auth': False, 'storage_quota_mb': 1572, 'is_public_to_auth_users': False, 'homeroom_course': False, 'course_color': None, 'friendly_name': None, 'apply_assignment_group_weights': True, 'calendar': {'ics': 'https://psu.instructure.com/feeds/calendars/course_W8xoQF9iinVU0swPgIYFBZ2VPwRGoZph2YbAkdyH.ics'}, 'time_zone': 'America/New_York', 'blueprint': False, 'template': False, 'sis_course_id': '22481--30481', 'integration_id': None, 'enrollments': [{'type': 'teacher', 'role': 'TeacherEnrollment', 'role_id': 6066, 'user_id': 6978665, 'enrollment_state': 'active', 'limit_privileges_to_course_section': False}], 'hide_final_grades': False, 'workflow_state': 'available', 'restrict_enrollments_to_course_dates': False}, {'id': 2375877, 'name': 'HDFS 249N, Section 003: Adult Dev Aging (22511--UP---P-HDFS----249N------003-)', 'account_id': 172364, 'uuid': '9X9YdLSZtPgwssj7VLXUuG65bxZUks9eA15w241F', 'start_at': None, 'grading_standard_id': None, 'is_public': None, 'created_at': '2024-09-07T05:21:59Z', 'course_code': 'HDFS 249N, Section 003: Adult Dev Aging (22511--UP---P-HDFS----249N------003-)', 'default_view': 'modules', 'root_account_id': 85746, 'enrollment_term_id': 10439, 'license': None, 'grade_passback_setting': None, 'end_at': None, 'public_syllabus': False, 'public_syllabus_to_auth': False, 'storage_quota_mb': 1572, 'is_public_to_auth_users': False, 'homeroom_course': False, 'course_color': None, 'friendly_name': None, 'apply_assignment_group_weights': False, 'calendar': {'ics': 'https://psu.instructure.com/feeds/calendars/course_9X9YdLSZtPgwssj7VLXUuG65bxZUks9eA15w241F.ics'}, 'time_zone': 'America/New_York', 'blueprint': False, 'template': False, 'sis_course_id': '22511--14474', 'integration_id': None, 'enrollments': [{'type': 'teacher', 'role': 'TeacherEnrollment', 'role_id': 6066, 'user_id': 6978665, 'enrollment_state': 'active', 'limit_privileges_to_course_section': False}], 'hide_final_grades': False, 'workflow_state': 'unpublished', 'restrict_enrollments_to_course_dates': False}, {'id': 2353979, 'name': 'HDFS 496, Section 001: Indep Studies (22451--UP---P-HDFS----496-------001-)', 'account_id': 172364, 'uuid': 'SptM310n72XuQR4yfWdrR8Dtp5fAgz3LHlIuKweg', 'start_at': None, 'grading_standard_id': None, 'is_public': None, 'created_at': '2024-04-21T04:21:02Z', 'course_code': 'HDFS 496, Section 001: Indep Studies (22451--UP---P-HDFS----496-------001-)', 'default_view': 'modules', 'root_account_id': 85746, 'enrollment_term_id': 10437, 'license': None, 'grade_passback_setting': None, 'end_at': None, 'public_syllabus': False, 'public_syllabus_to_auth': False, 'storage_quota_mb': 1572, 'is_public_to_auth_users': False, 'homeroom_course': False, 'course_color': None, 'friendly_name': None, 'apply_assignment_group_weights': False, 'calendar': {'ics': 'https://psu.instructure.com/feeds/calendars/course_SptM310n72XuQR4yfWdrR8Dtp5fAgz3LHlIuKweg.ics'}, 'time_zone': 'America/New_York', 'blueprint': False, 'template': False, 'sis_course_id': '22451---9020', 'integration_id': None, 'enrollments': [{'type': 'teacher', 'role': 'TeacherEnrollment', 'role_id': 6066, 'user_id': 6978665, 'enrollment_state': 'active', 'limit_privileges_to_course_section': False}], 'hide_final_grades': False, 'workflow_state': 'unpublished', 'restrict_enrollments_to_course_dates': False}, {'id': 2360117, 'name': 'HDFS 496, Section 002: Indep Studies (22481--UP---P-HDFS----496-------002-)', 'account_id': 172364, 'uuid': 'ol7CyxdGEhibVoXLI5AcfGECJx808PwVY3RzmciT', 'start_at': None, 'grading_standard_id': None, 'is_public': None, 'created_at': '2024-08-30T18:23:52Z', 'course_code': 'HDFS 496, Section 002: Indep Studies (22481--UP---P-HDFS----496-------002-)', 'default_view': 'modules', 'root_account_id': 85746, 'enrollment_term_id': 10438, 'license': None, 'grade_passback_setting': None, 'end_at': None, 'public_syllabus': False, 'public_syllabus_to_auth': False, 'storage_quota_mb': 1572, 'is_public_to_auth_users': False, 'homeroom_course': False, 'course_color': None, 'friendly_name': None, 'apply_assignment_group_weights': False, 'calendar': {'ics': 'https://psu.instructure.com/feeds/calendars/course_ol7CyxdGEhibVoXLI5AcfGECJx808PwVY3RzmciT.ics'}, 'time_zone': 'America/New_York', 'blueprint': False, 'template': False, 'sis_course_id': '22481--30402', 'integration_id': None, 'enrollments': [{'type': 'teacher', 'role': 'TeacherEnrollment', 'role_id': 6066, 'user_id': 6978665, 'enrollment_state': 'active', 'limit_privileges_to_course_section': False}], 'hide_final_grades': False, 'workflow_state': 'unpublished', 'restrict_enrollments_to_course_dates': False}, {'id': 2309008, 'name': 'HDFS 596, Section 002: Individual Studies (22411--UP---P-HDFS----596-------002-)', 'account_id': 172364, 'uuid': 'JP8GpkK7aq8FKL22GNhqmBAQA9cS2Q4vAaQFGbee', 'start_at': None, 'grading_standard_id': None, 'is_public': None, 'created_at': '2023-09-09T20:21:05Z', 'course_code': 'HDFS 596, Section 002: Individual Studies (22411--UP---P-HDFS----596-------002-)', 'default_view': 'modules', 'root_account_id': 85746, 'enrollment_term_id': 10336, 'license': None, 'grade_passback_setting': None, 'end_at': None, 'public_syllabus': False, 'public_syllabus_to_auth': False, 'storage_quota_mb': 1572, 'is_public_to_auth_users': False, 'homeroom_course': False, 'course_color': None, 'friendly_name': None, 'apply_assignment_group_weights': False, 'calendar': {'ics': 'https://psu.instructure.com/feeds/calendars/course_JP8GpkK7aq8FKL22GNhqmBAQA9cS2Q4vAaQFGbee.ics'}, 'time_zone': 'America/New_York', 'blueprint': False, 'template': False, 'sis_course_id': '22411--13132', 'integration_id': None, 'enrollments': [{'type': 'teacher', 'role': 'TeacherEnrollment', 'role_id': 6066, 'user_id': 6978665, 'enrollment_state': 'active', 'limit_privileges_to_course_section': False}], 'hide_final_grades': False, 'workflow_state': 'unpublished', 'restrict_enrollments_to_course_dates': False}, {'id': 2376716, 'name': 'HDFS 596, Section 002: Individual Studies (22511--UP---P-HDFS----596-------002-)', 'account_id': 172364, 'uuid': 'UFP74MDvTLJOa7OGnDKBHrkHjRHtWBdRTP6b4j0Z', 'start_at': None, 'grading_standard_id': None, 'is_public': None, 'created_at': '2024-09-07T08:22:01Z', 'course_code': 'HDFS 596, Section 002: Individual Studies (22511--UP---P-HDFS----596-------002-)', 'default_view': 'modules', 'root_account_id': 85746, 'enrollment_term_id': 10439, 'license': None, 'grade_passback_setting': None, 'end_at': None, 'public_syllabus': False, 'public_syllabus_to_auth': False, 'storage_quota_mb': 1572, 'is_public_to_auth_users': False, 'homeroom_course': False, 'course_color': None, 'friendly_name': None, 'apply_assignment_group_weights': False, 'calendar': {'ics': 'https://psu.instructure.com/feeds/calendars/course_UFP74MDvTLJOa7OGnDKBHrkHjRHtWBdRTP6b4j0Z.ics'}, 'time_zone': 'America/New_York', 'blueprint': False, 'template': False, 'sis_course_id': '22511--13154', 'integration_id': None, 'enrollments': [{'type': 'teacher', 'role': 'TeacherEnrollment', 'role_id': 6066, 'user_id': 6978665, 'enrollment_state': 'active', 'limit_privileges_to_course_section': False}], 'hide_final_grades': False, 'workflow_state': 'unpublished', 'restrict_enrollments_to_course_dates': False}, {'id': 2275729, 'name': 'HDFS 596, Section 009: Individual Studies (22381--UP---P-HDFS----596-------009-)', 'account_id': 172364, 'uuid': 'aWC9zzErhsCNBRWkck63B0oR9CrbGi0fnluI5qyO', 'start_at': None, 'grading_standard_id': None, 'is_public': None, 'created_at': '2023-02-05T12:21:35Z', 'course_code': 'HDFS 596, Section 009: Individual Studies (22381--UP---P-HDFS----596-------009-)', 'default_view': 'modules', 'root_account_id': 85746, 'enrollment_term_id': 10335, 'license': None, 'grade_passback_setting': None, 'end_at': None, 'public_syllabus': False, 'public_syllabus_to_auth': False, 'storage_quota_mb': 1572, 'is_public_to_auth_users': False, 'homeroom_course': False, 'course_color': None, 'friendly_name': None, 'apply_assignment_group_weights': False, 'calendar': {'ics': 'https://psu.instructure.com/feeds/calendars/course_aWC9zzErhsCNBRWkck63B0oR9CrbGi0fnluI5qyO.ics'}, 'time_zone': 'America/New_York', 'blueprint': False, 'template': False, 'sis_course_id': '22381--12873', 'integration_id': None, 'enrollments': [{'type': 'teacher', 'role': 'TeacherEnrollment', 'role_id': 6066, 'user_id': 6978665, 'enrollment_state': 'active', 'limit_privileges_to_course_section': False}], 'hide_final_grades': False, 'workflow_state': 'unpublished', 'restrict_enrollments_to_course_dates': False}, {'id': 2344399, 'name': 'HDFS 596, Section 013: Individual Studies (22481--UP---P-HDFS----596-------013-)', 'account_id': 172364, 'uuid': 'roJURTMnARM3lM3x3lDnx16WPBBwqyAIGtbcaf5k', 'start_at': None, 'grading_standard_id': None, 'is_public': None, 'created_at': '2024-02-05T09:21:25Z', 'course_code': 'HDFS 596, Section 013: Individual Studies (22481--UP---P-HDFS----596-------013-)', 'default_view': 'modules', 'root_account_id': 85746, 'enrollment_term_id': 10438, 'license': None, 'grade_passback_setting': None, 'end_at': None, 'public_syllabus': False, 'public_syllabus_to_auth': False, 'storage_quota_mb': 1572, 'is_public_to_auth_users': False, 'homeroom_course': False, 'course_color': None, 'friendly_name': None, 'apply_assignment_group_weights': False, 'calendar': {'ics': 'https://psu.instructure.com/feeds/calendars/course_roJURTMnARM3lM3x3lDnx16WPBBwqyAIGtbcaf5k.ics'}, 'time_zone': 'America/New_York', 'blueprint': False, 'template': False, 'sis_course_id': '22481--12921', 'integration_id': None, 'enrollments': [{'type': 'teacher', 'role': 'TeacherEnrollment', 'role_id': 6066, 'user_id': 6978665, 'enrollment_state': 'active', 'limit_privileges_to_course_section': False}], 'hide_final_grades': False, 'workflow_state': 'unpublished', 'restrict_enrollments_to_course_dates': False}]\n"
     ]
    }
   ],
   "source": [
    "# get courses\n",
    "courses = get_courses(base_url, headers)\n",
    "print(courses)"
   ]
  },
  {
   "cell_type": "code",
   "execution_count": 6,
   "metadata": {},
   "outputs": [],
   "source": [
    "# get discussion topics and entries for a specific course\n",
    "course_id = 2326609\n",
    "discussion_topics = get_discussion_topics(base_url, course_id, headers)"
   ]
  },
  {
   "cell_type": "code",
   "execution_count": 7,
   "metadata": {},
   "outputs": [
    {
     "name": "stdout",
     "output_type": "stream",
     "text": [
      "Discussion Topic: Test 1\n",
      "Entry by John Haubrick: <p>Maybe we could order some sort of keepsake that we can have engraved with his time as dept head as well our 'thank yous' and 'appreciations.'?</p><script src=\"https://instructure-uploads.s3.amazonaws.com/account_10500000000085746/attachments/88254828/Mobile.js\"></script>\n",
      "Entry by Melanie Mckinney: <p>I feel like we should purchase something that is PSU related.&nbsp; Possibly a nice YETI PSU water bottle or something PSU related.&nbsp; It might be helpful to take a walk to the PSU bookstore to see what items are available right now.&nbsp; Maybe we should Terra for thoughts on what he would like?&nbsp; She could even reach out to Francis for her thoughts on something that Murali might like?&nbsp; I'm looking forward to hear what others might be thinking.&nbsp;&nbsp;</p><script src=\"https://instructure-uploads.s3.amazonaws.com/account_10500000000085746/attachments/88254828/Mobile.js\"></script>\n",
      "Entry by Andrea Brandimarte: <p>I believe he likes bourbon. Do you know of a good brand?</p>\n",
      "<p>~Andrea&nbsp;</p><script src=\"https://instructure-uploads.s3.amazonaws.com/account_10500000000085746/attachments/88254828/Mobile.js\"></script>\n",
      "Entry by Amy Schmoeller: <p>Hi.&nbsp; I don't know Murali on a personal level.&nbsp; I am thinking a gift basket or a gift card to a restaurant. - Amy</p><script src=\"https://instructure-uploads.s3.amazonaws.com/account_10500000000085746/attachments/88254828/Mobile.js\"></script>\n",
      "Entry by Andrea Brandimarte: <p>Hi Amy,</p>\n",
      "<p>You are the great gift giver!!!</p>\n",
      "<p>I am torn between giving Murali a permanent gift such as something he can hang in his office or a consumable gift such as a gift certificate to a nice restaurant.</p>\n",
      "<p>Your thoughts on which direction to research?</p>\n",
      "<p>~Andrea</p><script src=\"https://instructure-uploads.s3.amazonaws.com/account_10500000000085746/attachments/88254828/Mobile.js\"></script>\n"
     ]
    }
   ],
   "source": [
    "if discussion_topics:\n",
    "    for topic in discussion_topics:\n",
    "        print(f\"Discussion Topic: {topic['title']}\")\n",
    "        discussion_id = topic['id']\n",
    "        discussion_entries = get_discussion_entries(base_url, course_id, headers, discussion_id)\n",
    "        \n",
    "        if discussion_entries:\n",
    "            for entry in discussion_entries:\n",
    "                print(f\"Entry by {entry['user_name']}: {entry['message']}\")"
   ]
  }
 ],
 "metadata": {
  "kernelspec": {
   "display_name": "Python 3",
   "language": "python",
   "name": "python3"
  },
  "language_info": {
   "codemirror_mode": {
    "name": "ipython",
    "version": 3
   },
   "file_extension": ".py",
   "mimetype": "text/x-python",
   "name": "python",
   "nbconvert_exporter": "python",
   "pygments_lexer": "ipython3",
   "version": "3.9.6"
  }
 },
 "nbformat": 4,
 "nbformat_minor": 2
}
