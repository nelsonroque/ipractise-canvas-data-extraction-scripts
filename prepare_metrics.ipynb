{
 "cells": [
  {
   "cell_type": "code",
   "execution_count": 1,
   "metadata": {},
   "outputs": [],
   "source": [
    "import json\n",
    "from datetime import datetime\n",
    "from collections import defaultdict"
   ]
  },
  {
   "cell_type": "markdown",
   "metadata": {},
   "source": [
    "## Prepare Environment"
   ]
  },
  {
   "cell_type": "code",
   "execution_count": null,
   "metadata": {},
   "outputs": [],
   "source": [
    "# Helper function to parse timestamps\n",
    "def parse_timestamp(timestamp_str):\n",
    "    return datetime.strptime(timestamp_str, \"%Y-%m-%dT%H:%M:%SZ\")"
   ]
  },
  {
   "cell_type": "markdown",
   "metadata": {},
   "source": [
    "## Load Data"
   ]
  },
  {
   "cell_type": "code",
   "execution_count": null,
   "metadata": {},
   "outputs": [],
   "source": [
    "data = json.load(open('data.json'))"
   ]
  },
  {
   "cell_type": "code",
   "execution_count": 5,
   "metadata": {},
   "outputs": [
    {
     "data": {
      "text/plain": [
       "{'id': 46137055,\n",
       " 'user_id': 6022275,\n",
       " 'parent_id': None,\n",
       " 'created_at': '2024-01-26T15:25:09Z',\n",
       " 'updated_at': '2024-01-26T15:25:09Z',\n",
       " 'rating_count': None,\n",
       " 'rating_sum': None,\n",
       " 'user_name': 'John Haubrick',\n",
       " 'message': '<p>Maybe we could order some sort of keepsake that we can have engraved with his time as dept head as well our \\'thank yous\\' and \\'appreciations.\\'?</p><script src=\"https://instructure-uploads.s3.amazonaws.com/account_10500000000085746/attachments/88254828/Mobile.js\"></script>',\n",
       " 'user': {'id': 6022275,\n",
       "  'anonymous_id': '3l2tf',\n",
       "  'display_name': 'John M Haubrick',\n",
       "  'avatar_image_url': 'https://psu.instructure.com/images/thumbnails/127535803/rj1IkpuLedzk1757fmEK4iVbcvNXkVEw1DqotYbn',\n",
       "  'html_url': 'https://psu.instructure.com/courses/2326609/users/6022275',\n",
       "  'pronouns': 'He/Him'},\n",
       " 'read_state': 'read',\n",
       " 'forced_read_state': False}"
      ]
     },
     "execution_count": 5,
     "metadata": {},
     "output_type": "execute_result"
    }
   ],
   "source": [
    "data[0]"
   ]
  },
  {
   "cell_type": "markdown",
   "metadata": {},
   "source": [
    "## Compute Metrics"
   ]
  },
  {
   "cell_type": "code",
   "execution_count": 10,
   "metadata": {},
   "outputs": [],
   "source": [
    "# Metric 1: Count unique discussion members\n",
    "unique_users = set()\n",
    "post_count_per_user = defaultdict(int)\n",
    "timestamps = []\n",
    "\n",
    "for entry in data:\n",
    "    unique_users.add(entry['user_id'])\n",
    "    post_count_per_user[entry['user_id']] += 1\n",
    "    timestamps.append(parse_timestamp(entry['created_at']))\n",
    "\n",
    "# Metric 2: Calculate total number of posts\n",
    "total_posts = len(data)\n",
    "\n",
    "# Metric 3: Calculate time differences between posts\n",
    "timestamps.sort()  # Ensure timestamps are in chronological order\n",
    "time_differences = [(timestamps[i] - timestamps[i-1]).total_seconds() / 60.0 for i in range(1, len(timestamps))]\n",
    "\n",
    "# Metric 4: Calculate average response time\n",
    "average_response_time = sum(time_differences) / len(time_differences) if time_differences else 0\n",
    "\n",
    "# Metric 5: Longest gap between posts\n",
    "longest_gap = max(time_differences) if time_differences else 0\n",
    "\n",
    "# Metric 6: Post distribution per user\n",
    "post_distribution = {user_id: count for user_id, count in post_count_per_user.items()}"
   ]
  },
  {
   "cell_type": "markdown",
   "metadata": {},
   "source": [
    "## Report Metrics"
   ]
  },
  {
   "cell_type": "code",
   "execution_count": 7,
   "metadata": {},
   "outputs": [
    {
     "name": "stdout",
     "output_type": "stream",
     "text": [
      "Number of unique discussion members: 4\n",
      "Total number of posts: 5\n",
      "Average response time between posts (in minutes): 342.47\n",
      "Longest gap between posts (in minutes): 1148.47\n",
      "Post distribution per user (user_id: number of posts):\n",
      "User 6022275: 1 posts\n",
      "User 6817271: 1 posts\n",
      "User 7244899: 2 posts\n",
      "User 6788319: 1 posts\n"
     ]
    }
   ],
   "source": [
    "# Printing the results\n",
    "print(f\"Number of unique discussion members: {len(unique_users)}\")\n",
    "print(f\"Total number of posts: {total_posts}\")\n",
    "print(f\"Average response time between posts (in minutes): {average_response_time:.2f}\")\n",
    "print(f\"Longest gap between posts (in minutes): {longest_gap:.2f}\")\n",
    "print(\"Post distribution per user (user_id: number of posts):\")\n",
    "for user_id, count in post_distribution.items():\n",
    "    print(f\"User {user_id}: {count} posts\")"
   ]
  },
  {
   "cell_type": "markdown",
   "metadata": {},
   "source": [
    "## Compute Integrated Metric"
   ]
  },
  {
   "cell_type": "code",
   "execution_count": 12,
   "metadata": {},
   "outputs": [
    {
     "name": "stdout",
     "output_type": "stream",
     "text": [
      "Integrated Engagement Score: 0.22\n"
     ]
    }
   ],
   "source": [
    "# Normalization function (min-max scaling)\n",
    "def normalize(value, min_value, max_value):\n",
    "    return (value - min_value) / (max_value - min_value) if max_value != min_value else 0\n",
    "\n",
    "# Assuming you want to give weights to the metrics (you can adjust these weights)\n",
    "weights = {\n",
    "    \"unique_members\": 0.3,  # Weight for number of unique members\n",
    "    \"total_posts\": 0.3,     # Weight for total number of posts\n",
    "    \"average_response_time\": 0.2,  # Weight for average response time (lower is better)\n",
    "    \"longest_gap\": 0.2      # Weight for longest gap between posts (lower is better)\n",
    "}\n",
    "\n",
    "# Min and max values for normalization (you should adjust these based on your dataset)\n",
    "min_unique_members = 1\n",
    "max_unique_members = 50  # Example maximum\n",
    "min_total_posts = 1\n",
    "max_total_posts = 100  # Example maximum\n",
    "min_response_time = 1   # Minimum response time in minutes\n",
    "max_response_time = 1440  # 24 hours, as an example of maximum\n",
    "min_gap = 1             # Minimum gap between posts\n",
    "max_gap = 1440          # 24 hours, as an example of maximum\n",
    "\n",
    "# Normalize metrics\n",
    "normalized_unique_members = normalize(len(unique_users), min_unique_members, max_unique_members)\n",
    "normalized_total_posts = normalize(total_posts, min_total_posts, max_total_posts)\n",
    "normalized_response_time = normalize(max_response_time - average_response_time, min_response_time, max_response_time)\n",
    "normalized_longest_gap = normalize(max_gap - longest_gap, min_gap, max_gap)\n",
    "\n",
    "# Calculate the final integrated score using the weighted sum\n",
    "integrated_score = (\n",
    "    weights[\"unique_members\"] * normalized_unique_members +\n",
    "    weights[\"total_posts\"] * normalized_total_posts +\n",
    "    weights[\"average_response_time\"] * normalized_response_time +\n",
    "    weights[\"longest_gap\"] * normalized_longest_gap\n",
    ")\n",
    "\n",
    "# Print the integrated score\n",
    "print(f\"Integrated Engagement Score: {integrated_score:.2f}\")\n"
   ]
  },
  {
   "cell_type": "markdown",
   "metadata": {},
   "source": [
    "## Same approach, by Discussion Post\n",
    "\n",
    "Code below would only work if when downloading canvas api data, you add a discussion_id - currently missing in the data sample."
   ]
  },
  {
   "cell_type": "code",
   "execution_count": 9,
   "metadata": {},
   "outputs": [
    {
     "name": "stdout",
     "output_type": "stream",
     "text": [
      "Discussion 46137055:\n",
      "  Number of unique discussion members: 1\n",
      "  Total number of posts: 1\n",
      "  Average response time between posts (in minutes): 0.00\n",
      "  Longest gap between posts (in minutes): 0.00\n",
      "  Post distribution per user (user_id: number of posts):\n",
      "    User 6022275: 1 posts\n",
      "Discussion 46136280:\n",
      "  Number of unique discussion members: 1\n",
      "  Total number of posts: 1\n",
      "  Average response time between posts (in minutes): 0.00\n",
      "  Longest gap between posts (in minutes): 0.00\n",
      "  Post distribution per user (user_id: number of posts):\n",
      "    User 6817271: 1 posts\n",
      "Discussion 46123132:\n",
      "  Number of unique discussion members: 1\n",
      "  Total number of posts: 1\n",
      "  Average response time between posts (in minutes): 0.00\n",
      "  Longest gap between posts (in minutes): 0.00\n",
      "  Post distribution per user (user_id: number of posts):\n",
      "    User 7244899: 1 posts\n",
      "Discussion 46122996:\n",
      "  Number of unique discussion members: 1\n",
      "  Total number of posts: 1\n",
      "  Average response time between posts (in minutes): 0.00\n",
      "  Longest gap between posts (in minutes): 0.00\n",
      "  Post distribution per user (user_id: number of posts):\n",
      "    User 6788319: 1 posts\n",
      "Discussion 46120165:\n",
      "  Number of unique discussion members: 1\n",
      "  Total number of posts: 1\n",
      "  Average response time between posts (in minutes): 0.00\n",
      "  Longest gap between posts (in minutes): 0.00\n",
      "  Post distribution per user (user_id: number of posts):\n",
      "    User 7244899: 1 posts\n"
     ]
    }
   ],
   "source": [
    "# Assuming data is a list of dictionaries with each post including a 'discussion_id'\n",
    "from collections import defaultdict\n",
    "\n",
    "# Group posts by discussion_id\n",
    "discussions = defaultdict(list)\n",
    "for entry in data:\n",
    "    discussions[entry['discussion_id']].append(entry)\n",
    "\n",
    "# To store metrics for each discussion\n",
    "discussion_metrics = {}\n",
    "\n",
    "# Iterate through each discussion\n",
    "for discussion_id, posts in discussions.items():\n",
    "    # Metric 1: Count unique discussion members\n",
    "    unique_users = set()\n",
    "    post_count_per_user = defaultdict(int)\n",
    "    timestamps = []\n",
    "\n",
    "    for entry in posts:\n",
    "        unique_users.add(entry['user_id'])\n",
    "        post_count_per_user[entry['user_id']] += 1\n",
    "        timestamps.append(parse_timestamp(entry['created_at']))\n",
    "\n",
    "    # Metric 2: Calculate total number of posts\n",
    "    total_posts = len(posts)\n",
    "\n",
    "    # Metric 3: Calculate time differences between posts\n",
    "    timestamps.sort()  # Ensure timestamps are in chronological order\n",
    "    time_differences = [(timestamps[i] - timestamps[i-1]).total_seconds() / 60.0 for i in range(1, len(timestamps))]\n",
    "\n",
    "    # Metric 4: Calculate average response time\n",
    "    average_response_time = sum(time_differences) / len(time_differences) if time_differences else 0\n",
    "\n",
    "    # Metric 5: Longest gap between posts\n",
    "    longest_gap = max(time_differences) if time_differences else 0\n",
    "\n",
    "    # Metric 6: Post distribution per user\n",
    "    post_distribution = {user_id: count for user_id, count in post_count_per_user.items()}\n",
    "\n",
    "    # Store metrics for this discussion\n",
    "    discussion_metrics[discussion_id] = {\n",
    "        \"num_unique_members\": len(unique_users),\n",
    "        \"total_posts\": total_posts,\n",
    "        \"average_response_time\": average_response_time,\n",
    "        \"longest_gap\": longest_gap,\n",
    "        \"post_distribution\": post_distribution\n",
    "    }\n",
    "\n",
    "# Printing metrics for each discussion\n",
    "for discussion_id, metrics in discussion_metrics.items():\n",
    "    print(f\"Discussion {discussion_id}:\")\n",
    "    print(f\"  Number of unique discussion members: {metrics['num_unique_members']}\")\n",
    "    print(f\"  Total number of posts: {metrics['total_posts']}\")\n",
    "    print(f\"  Average response time between posts (in minutes): {metrics['average_response_time']:.2f}\")\n",
    "    print(f\"  Longest gap between posts (in minutes): {metrics['longest_gap']:.2f}\")\n",
    "    print(\"  Post distribution per user (user_id: number of posts):\")\n",
    "    for user_id, count in metrics['post_distribution'].items():\n",
    "        print(f\"    User {user_id}: {count} posts\")\n"
   ]
  }
 ],
 "metadata": {
  "kernelspec": {
   "display_name": ".venv",
   "language": "python",
   "name": "python3"
  },
  "language_info": {
   "codemirror_mode": {
    "name": "ipython",
    "version": 3
   },
   "file_extension": ".py",
   "mimetype": "text/x-python",
   "name": "python",
   "nbconvert_exporter": "python",
   "pygments_lexer": "ipython3",
   "version": "3.9.6"
  }
 },
 "nbformat": 4,
 "nbformat_minor": 2
}
